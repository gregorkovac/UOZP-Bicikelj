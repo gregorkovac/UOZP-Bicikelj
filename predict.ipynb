{
 "cells": [
  {
   "attachments": {},
   "cell_type": "markdown",
   "metadata": {},
   "source": [
    "Imports"
   ]
  },
  {
   "cell_type": "code",
   "execution_count": 300,
   "metadata": {},
   "outputs": [],
   "source": [
    "import pandas as pd\n",
    "import numpy as np\n",
    "from datetime import datetime\n",
    "import copy\n",
    "from sklearn import linear_model\n",
    "\n",
    "pd.options.mode.chained_assignment = None"
   ]
  },
  {
   "attachments": {},
   "cell_type": "markdown",
   "metadata": {},
   "source": [
    "Load data"
   ]
  },
  {
   "cell_type": "code",
   "execution_count": 301,
   "metadata": {},
   "outputs": [],
   "source": [
    "train = pd.read_csv('bicikelj_train.csv')\n",
    "test = pd.read_csv('bicikelj_test.csv')"
   ]
  },
  {
   "attachments": {},
   "cell_type": "markdown",
   "metadata": {},
   "source": [
    "Feature creation"
   ]
  },
  {
   "cell_type": "code",
   "execution_count": 302,
   "metadata": {},
   "outputs": [],
   "source": [
    "train[\"timestamp\"] = [pd.to_datetime(ts).tz_localize(None) for ts in train[\"timestamp\"].values]\n",
    "test[\"timestamp\"] = [pd.to_datetime(ts).tz_localize(None) for ts in test[\"timestamp\"].values]\n",
    "\n",
    "times = train[\"timestamp\"].values\n",
    "\n",
    "classes = train.columns[1:]"
   ]
  },
  {
   "cell_type": "code",
   "execution_count": 303,
   "metadata": {},
   "outputs": [],
   "source": [
    "def get_closest_time(t):\n",
    "    closest = np.argmin(np.abs(times - np.full_like(times, t)))\n",
    "    #print(t, times[closest])\n",
    "    #print(\"Closest: \", train.iloc[closest, 0], \" index: \", closest, end='\\r')\n",
    "    #return train.iloc[closest, 0]\n",
    "    return closest"
   ]
  },
  {
   "cell_type": "code",
   "execution_count": 304,
   "metadata": {},
   "outputs": [
    {
     "name": "stdout",
     "output_type": "stream",
     "text": [
      "Creating features for train set...\n",
      "Creating features for test set...\n",
      "Done!40\n"
     ]
    }
   ],
   "source": [
    "\n",
    "print(\"Creating features for train set...\")\n",
    "cnt = 0\n",
    "\n",
    "# Add new columns to train set\n",
    "train['hour'] = 0\n",
    "train['day'] = 0\n",
    "train['month'] = 0\n",
    "train['weekday'] = 0\n",
    "train['bikes_before_60'] = 0\n",
    "train['bikes_before_90'] = 0\n",
    "train['bikes_before_120'] = 0\n",
    "train['bikes_before_180'] = 0\n",
    "\n",
    "# Add new columns to test set\n",
    "test['hour'] = 0\n",
    "test['day'] = 0\n",
    "test['month'] = 0\n",
    "test['weekday'] = 0\n",
    "test['bikes_before_60'] = 0\n",
    "test['bikes_before_90'] = 0\n",
    "test['bikes_before_120'] = 0\n",
    "test['bikes_before_180'] = 0\n",
    "\n",
    "for t in train['timestamp']:\n",
    "    cnt += 1\n",
    "    print(cnt, '/', str(len(train['timestamp'])), end='\\r')\n",
    "\n",
    "    row = train[train['timestamp'] == t]\n",
    "    row['hour'] = t.hour\n",
    "    row['day'] = t.day\n",
    "    row['month'] = t.month\n",
    "    row['weekday'] = t.weekday()\n",
    "\n",
    "    row['bikes_before_60'] = get_closest_time(t - pd.Timedelta(minutes=60))\n",
    "    row['bikes_before_90'] = get_closest_time(t - pd.Timedelta(minutes=90))\n",
    "    row['bikes_before_120'] = get_closest_time(t - pd.Timedelta(minutes=120))\n",
    "    row['bikes_before_180'] = get_closest_time(t - pd.Timedelta(minutes=180))\n",
    "\n",
    "    train.loc[train['timestamp'] == t] = row\n",
    "\n",
    "print(\"Creating features for test set...\")\n",
    "cnt = 0\n",
    "for t in test['timestamp']:\n",
    "    cnt += 1\n",
    "    print(cnt, '/', str(len(test['timestamp'])), end='\\r')\n",
    "\n",
    "    row = test[test['timestamp'] == t]\n",
    "    row['hour'] = t.hour\n",
    "    row['day'] = t.day\n",
    "    row['month'] = t.month\n",
    "    row['weekday'] = t.weekday()\n",
    "\n",
    "    row['bikes_before_60'] = get_closest_time(t - pd.Timedelta(minutes=60))\n",
    "    row['bikes_before_90'] = get_closest_time(t - pd.Timedelta(minutes=90))\n",
    "    row['bikes_before_120'] = get_closest_time(t - pd.Timedelta(minutes=120))\n",
    "    row['bikes_before_180'] = get_closest_time(t - pd.Timedelta(minutes=180))\n",
    "\n",
    "    test.loc[test['timestamp'] == t] = row\n",
    "\n",
    "print(\"Done!\")"
   ]
  },
  {
   "attachments": {},
   "cell_type": "markdown",
   "metadata": {},
   "source": [
    "Training and predicting"
   ]
  },
  {
   "cell_type": "code",
   "execution_count": 305,
   "metadata": {},
   "outputs": [
    {
     "name": "stdout",
     "output_type": "stream",
     "text": [
      "83 / 83   SUPERNOVA LJUBLJANA - RUDNIK                                                                                        \r"
     ]
    }
   ],
   "source": [
    "cnt = 0\n",
    "for c in classes:\n",
    "    cnt += 1\n",
    "    print('                                                                                                                              ', end='\\r')\n",
    "    print(cnt, '/', str(len(classes)), ' ', c, end='\\r')\n",
    "\n",
    "    X = train[train.columns[-8:]]\n",
    "    y = train[c]\n",
    "\n",
    "    bikes_before_60 = []\n",
    "    bikes_before_90 = []\n",
    "    bikes_before_120 = []\n",
    "    bikes_before_180 = []\n",
    "\n",
    "    for i in range(0, len(X)):\n",
    "        bikes_before_60.append(train.iloc[X.iloc[i]['bikes_before_60']][c])\n",
    "        bikes_before_90.append(train.iloc[X.iloc[i]['bikes_before_90']][c])\n",
    "        bikes_before_120.append(train.iloc[X.iloc[i]['bikes_before_120']][c])\n",
    "        bikes_before_180.append(train.iloc[X.iloc[i]['bikes_before_180']][c])\n",
    "\n",
    "\n",
    "    X.loc[:, 'bikes_before_60'] = bikes_before_60\n",
    "    X.loc[:, 'bikes_before_90'] = bikes_before_90\n",
    "    X.loc[:, 'bikes_before_120'] = bikes_before_120\n",
    "    X.loc[:, 'bikes_before_180'] = bikes_before_180\n",
    "\n",
    "    X = X.drop(columns=['day', 'month', 'hour', 'weekday'], axis=1)\n",
    "\n",
    "    X_test = test[test.columns[-8:]]\n",
    "\n",
    "    bikes_before_60 = []\n",
    "    bikes_before_90 = []\n",
    "    bikes_before_120 = []\n",
    "    bikes_before_180 = []\n",
    "\n",
    "    for i in range(0, len(X_test)):\n",
    "        bikes_before_60.append(train.iloc[X_test.iloc[i]['bikes_before_60']][c])\n",
    "        bikes_before_90.append(train.iloc[X_test.iloc[i]['bikes_before_90']][c])\n",
    "        bikes_before_120.append(train.iloc[X_test.iloc[i]['bikes_before_120']][c])\n",
    "        bikes_before_180.append(train.iloc[X_test.iloc[i]['bikes_before_180']][c])\n",
    "\n",
    "    X_test.loc[:, 'bikes_before_60'] = bikes_before_60\n",
    "    X_test.loc[:, 'bikes_before_90'] = bikes_before_90\n",
    "    X_test.loc[:, 'bikes_before_120'] = bikes_before_120\n",
    "    X_test.loc[:, 'bikes_before_180'] = bikes_before_180\n",
    "\n",
    "    X_test = X_test.drop(columns=['day', 'month', 'hour', 'weekday'], axis=1)\n",
    "\n",
    "    model = linear_model.LinearRegression()\n",
    "    model.fit(X, y)\n",
    "\n",
    "    y_pred = model.predict(X_test)\n",
    "\n",
    "    test[c] = y_pred"
   ]
  },
  {
   "attachments": {},
   "cell_type": "markdown",
   "metadata": {},
   "source": [
    "Remove extra columns"
   ]
  },
  {
   "cell_type": "code",
   "execution_count": 309,
   "metadata": {},
   "outputs": [],
   "source": [
    "test = test.drop(['hour', 'day', 'month', 'weekday', 'bikes_before_60', 'bikes_before_90', 'bikes_before_120', 'bikes_before_180'], axis=1)"
   ]
  },
  {
   "attachments": {},
   "cell_type": "markdown",
   "metadata": {},
   "source": [
    "Save result"
   ]
  },
  {
   "cell_type": "code",
   "execution_count": 307,
   "metadata": {},
   "outputs": [],
   "source": [
    "now = datetime.now()\n",
    "\n",
    "test.to_csv('bicikelj_out_' + now.strftime(\"%d_%m-%H-%M-%S\") + '.csv', index=False)"
   ]
  }
 ],
 "metadata": {
  "kernelspec": {
   "display_name": "Python 3",
   "language": "python",
   "name": "python3"
  },
  "language_info": {
   "codemirror_mode": {
    "name": "ipython",
    "version": 3
   },
   "file_extension": ".py",
   "mimetype": "text/x-python",
   "name": "python",
   "nbconvert_exporter": "python",
   "pygments_lexer": "ipython3",
   "version": "3.11.1"
  },
  "orig_nbformat": 4,
  "vscode": {
   "interpreter": {
    "hash": "1a1af0ee75eeea9e2e1ee996c87e7a2b11a0bebd85af04bb136d915cefc0abce"
   }
  }
 },
 "nbformat": 4,
 "nbformat_minor": 2
}
