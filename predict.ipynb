{
 "cells": [
  {
   "attachments": {},
   "cell_type": "markdown",
   "metadata": {},
   "source": [
    "Imports"
   ]
  },
  {
   "cell_type": "code",
   "execution_count": 71,
   "metadata": {},
   "outputs": [],
   "source": [
    "import pandas as pd\n",
    "import numpy as np\n",
    "from datetime import datetime\n",
    "from sklearn import linear_model\n",
    "\n",
    "pd.options.mode.chained_assignment = None"
   ]
  },
  {
   "attachments": {},
   "cell_type": "markdown",
   "metadata": {},
   "source": [
    "Load data"
   ]
  },
  {
   "cell_type": "code",
   "execution_count": 72,
   "metadata": {},
   "outputs": [],
   "source": [
    "train = pd.read_csv('bicikelj_train.csv')\n",
    "test = pd.read_csv('bicikelj_test.csv')"
   ]
  },
  {
   "attachments": {},
   "cell_type": "markdown",
   "metadata": {},
   "source": [
    "Feature creation"
   ]
  },
  {
   "cell_type": "code",
   "execution_count": 73,
   "metadata": {},
   "outputs": [],
   "source": [
    "# Convert timestamp to pandas datetime\n",
    "train[\"timestamp\"] = [pd.to_datetime(ts).tz_localize(None) for ts in train[\"timestamp\"].values]\n",
    "test[\"timestamp\"] = [pd.to_datetime(ts).tz_localize(None) for ts in test[\"timestamp\"].values]\n",
    "\n",
    "# Save timestamps of train set to a separate list\n",
    "times = train[\"timestamp\"].values\n",
    "\n",
    "# Save classes to a separate list\n",
    "classes = train.columns[1:]"
   ]
  },
  {
   "cell_type": "code",
   "execution_count": 74,
   "metadata": {},
   "outputs": [],
   "source": [
    "# Gets the closes time to t in the train set\n",
    "def get_closest_time(t):\n",
    "    closest = np.argmin(np.abs(times - np.full_like(times, t)))\n",
    "    return int(closest)"
   ]
  },
  {
   "attachments": {},
   "cell_type": "markdown",
   "metadata": {},
   "source": [
    "Create features for timestamp difference"
   ]
  },
  {
   "cell_type": "code",
   "execution_count": 75,
   "metadata": {},
   "outputs": [],
   "source": [
    "# Remove train samples that have a break that is too big\n",
    "for t in train['timestamp']:\n",
    "    minus60 = t - pd.Timedelta(minutes=60)\n",
    "    minus120 = t - pd.Timedelta(minutes=120)\n",
    "\n",
    "    closest_60 = np.abs(minus60 - times[get_closest_time(minus60)]).total_seconds() / 60\n",
    "    closest_120 = np.abs(minus120 - times[get_closest_time(minus120)]).total_seconds() / 60\n",
    "\n",
    "    if closest_60 > 15 or closest_120 > 15:\n",
    "        train = train[train['timestamp'] != t]\n",
    "\n",
    "# Tag test samples that have a 2 hour break\n",
    "test[\"is_two_hour_break\"] = 0\n",
    "for t in test['timestamp']:\n",
    "    minus60 = t - pd.Timedelta(minutes=60)\n",
    "    minus120 = t - pd.Timedelta(minutes=120)\n",
    "\n",
    "    closest_60 = np.abs(minus60 - times[get_closest_time(minus60)]).total_seconds() / 60\n",
    "    closest_120 = np.abs(minus120 - times[get_closest_time(minus120)]).total_seconds() / 60\n",
    "\n",
    "    if closest_60 > 15:\n",
    "        test.loc[test['timestamp'] == t, 'is_two_hour_break'] = 1"
   ]
  },
  {
   "cell_type": "code",
   "execution_count": 76,
   "metadata": {},
   "outputs": [],
   "source": [
    "# Save timestamps of train set to a separate list\n",
    "times = train[\"timestamp\"].values"
   ]
  },
  {
   "cell_type": "code",
   "execution_count": 77,
   "metadata": {},
   "outputs": [
    {
     "name": "stdout",
     "output_type": "stream",
     "text": [
      "Creating features for train set...\n",
      "Creating features for test set...\n",
      "Done!40\n"
     ]
    }
   ],
   "source": [
    "\n",
    "print(\"Creating features for train set...\")\n",
    "cnt = 0\n",
    "\n",
    "# Add new columns to train set\n",
    "train['hour'] = 0\n",
    "train['weekday'] = 0\n",
    "train['bikes_before_60'] = 0\n",
    "train['bikes_before_90'] = 0\n",
    "train['bikes_before_120'] = 0\n",
    "\n",
    "# Add new columns to test set\n",
    "test['hour'] = 0\n",
    "test['weekday'] = 0\n",
    "test['bikes_before_60'] = 0\n",
    "test['bikes_before_90'] = 0\n",
    "test['bikes_before_120'] = 0\n",
    "\n",
    "for t in train['timestamp']:\n",
    "    cnt += 1\n",
    "    print(cnt, '/', str(len(train['timestamp'])), end='\\r')\n",
    "\n",
    "    # Extract row\n",
    "    row = train[train['timestamp'] == t]\n",
    "\n",
    "    # Create new features\n",
    "    row['hour'] = t.hour\n",
    "    row['weekday'] = t.weekday()\n",
    "\n",
    "    row['bikes_before_60'] = get_closest_time(t - pd.Timedelta(minutes=60))\n",
    "    row['bikes_before_90'] = get_closest_time(t - pd.Timedelta(minutes=90))\n",
    "    row['bikes_before_120'] = get_closest_time(t - pd.Timedelta(minutes=120))\n",
    "\n",
    "    # Insert the new row\n",
    "    train.loc[train['timestamp'] == t] = row\n",
    "\n",
    "print(\"Creating features for test set...\")\n",
    "cnt = 0\n",
    "for t in test['timestamp']:\n",
    "    cnt += 1\n",
    "    print(cnt, '/', str(len(test['timestamp'])), end='\\r')\n",
    "\n",
    "    # Extract row\n",
    "    row = test[test['timestamp'] == t]\n",
    "\n",
    "    # Create new features\n",
    "    row['hour'] = t.hour\n",
    "    row['weekday'] = t.weekday()\n",
    "\n",
    "    row['bikes_before_60'] = get_closest_time(t - pd.Timedelta(minutes=60))\n",
    "    row['bikes_before_90'] = get_closest_time(t - pd.Timedelta(minutes=90))\n",
    "    row['bikes_before_120'] = get_closest_time(t - pd.Timedelta(minutes=120))\n",
    "\n",
    "    # Insert the new row\n",
    "    test.loc[test['timestamp'] == t] = row\n",
    "\n",
    "print(\"Done!\")"
   ]
  },
  {
   "attachments": {},
   "cell_type": "markdown",
   "metadata": {},
   "source": [
    "One-hot-encoding"
   ]
  },
  {
   "cell_type": "code",
   "execution_count": 78,
   "metadata": {},
   "outputs": [],
   "source": [
    "# Use one-hot-encoding for hour and weekday\n",
    "train = pd.get_dummies(train, columns=['hour', 'weekday'], drop_first=True)\n",
    "test = pd.get_dummies(test, columns=['hour', 'weekday'], drop_first=True)\n",
    "\n",
    "# Insert missing columns to test set\n",
    "def test_insert_column_after(name, after):\n",
    "    test[name] = 0\n",
    "    hour_prev_i = test.columns.get_loc(after)\n",
    "    test.insert(hour_prev_i + 1, name, test.pop(name))\n",
    "\n",
    "test_insert_column_after(\"hour_1\", \"bikes_before_120\")\n",
    "test_insert_column_after(\"hour_2\", \"hour_1\")\n"
   ]
  },
  {
   "attachments": {},
   "cell_type": "markdown",
   "metadata": {},
   "source": [
    "Training and predicting"
   ]
  },
  {
   "cell_type": "code",
   "execution_count": 79,
   "metadata": {},
   "outputs": [
    {
     "name": "stdout",
     "output_type": "stream",
     "text": [
      "83 / 83   SUPERNOVA LJUBLJANA - RUDNIK                                                                                        \r"
     ]
    }
   ],
   "source": [
    "cnt = 0\n",
    "\n",
    "# Create a new model for each Bicikelj station\n",
    "for c in classes:\n",
    "    cnt += 1\n",
    "\n",
    "    print('                                                                                                                              ', end='\\r')\n",
    "    print(cnt, '/', str(len(classes)), ' ', c, end='\\r')\n",
    "\n",
    "    # Extract train input and output variables\n",
    "    X = train[train.columns[-32:]]\n",
    "    y = train[c]\n",
    "\n",
    "    # Find the numbers of bikes based on the times\n",
    "    bikes_before_60 = []\n",
    "    bikes_before_90 = []\n",
    "    bikes_before_120 = []\n",
    "\n",
    "    for i in range(0, len(X)):\n",
    "        bikes_before_60.append(train.iloc[int(X.iloc[i]['bikes_before_60'])][c])\n",
    "        bikes_before_90.append(train.iloc[int(X.iloc[i]['bikes_before_90'])][c])\n",
    "        bikes_before_120.append(train.iloc[int(X.iloc[i]['bikes_before_120'])][c])\n",
    "\n",
    "    X.loc[:, 'bikes_before_60'] = bikes_before_60\n",
    "    X.loc[:, 'bikes_before_90'] = bikes_before_90\n",
    "    X.loc[:, 'bikes_before_120'] = bikes_before_120\n",
    "\n",
    "    # Extract test input variables\n",
    "    X_test = test[test.columns[-32:]]\n",
    "\n",
    "    # Find the numbers of bikes based on the times\n",
    "    bikes_before_60 = []\n",
    "    bikes_before_90 = []\n",
    "    bikes_before_120 = []\n",
    "\n",
    "    for i in range(0, len(X_test)):\n",
    "        bikes_before_60.append(train.iloc[int(X_test.iloc[i]['bikes_before_60'])][c])\n",
    "        bikes_before_90.append(train.iloc[int(X_test.iloc[i]['bikes_before_90'])][c])\n",
    "        bikes_before_120.append(train.iloc[int(X_test.iloc[i]['bikes_before_120'])][c])\n",
    "\n",
    "    X_test.loc[:, 'bikes_before_60'] = bikes_before_60\n",
    "    X_test.loc[:, 'bikes_before_90'] = bikes_before_90\n",
    "    X_test.loc[:, 'bikes_before_120'] = bikes_before_120\n",
    "\n",
    "    # Create and train the model\n",
    "    model = linear_model.LinearRegression()\n",
    "    model.fit(X, y)\n",
    "\n",
    "    # Remove the columns that are not needed for the second model\n",
    "    X = X.drop(['bikes_before_60', 'bikes_before_90'], axis=1)\n",
    "\n",
    "    model_120 = linear_model.LinearRegression()\n",
    "    model_120.fit(X, y)\n",
    "\n",
    "    # Predict the test set\n",
    "    y_pred = model.predict(X_test)\n",
    "\n",
    "    X_test = X_test.drop(['bikes_before_60', 'bikes_before_90'], axis=1)\n",
    "    y_pred_120 = model_120.predict(X_test)\n",
    "\n",
    "    y_pred_final = []\n",
    "\n",
    "    # Put in y_pred_120 where \"is_two_hour_break\" is 1\n",
    "    for i in range(0, len(y_pred)):\n",
    "        if test.iloc[i]['is_two_hour_break'] == 1:\n",
    "            y_pred_final.append(y_pred_120[i])\n",
    "        else:\n",
    "            y_pred_final.append(y_pred[i])\n",
    "\n",
    "    # Set negative values to 0\n",
    "    for j in range(len(y_pred_final)):\n",
    "        if y_pred_final[j] < 0:\n",
    "            y_pred_final[j] = 0\n",
    "\n",
    "    test[c] = y_pred_final\n",
    "\n"
   ]
  },
  {
   "attachments": {},
   "cell_type": "markdown",
   "metadata": {},
   "source": [
    "Remove unnecesary columns from the test set"
   ]
  },
  {
   "cell_type": "code",
   "execution_count": 80,
   "metadata": {},
   "outputs": [],
   "source": [
    "test_out = test.drop(['bikes_before_60', 'bikes_before_90', 'bikes_before_120', 'is_two_hour_break'], axis=1)\n",
    "\n",
    "for i in range(1, 24):\n",
    "    test_out = test_out.drop('hour_' + str(i), axis=1)\n",
    "\n",
    "for i in range(1, 7):\n",
    "    test_out = test_out.drop('weekday_' + str(i), axis=1)\n"
   ]
  },
  {
   "attachments": {},
   "cell_type": "markdown",
   "metadata": {},
   "source": [
    "Save the result"
   ]
  },
  {
   "cell_type": "code",
   "execution_count": 81,
   "metadata": {},
   "outputs": [],
   "source": [
    "now = datetime.now()\n",
    "\n",
    "test_out.to_csv('bicikelj_out_' + now.strftime(\"%d_%m-%H-%M-%S\") + '.csv', index=False)"
   ]
  }
 ],
 "metadata": {
  "kernelspec": {
   "display_name": "Python 3",
   "language": "python",
   "name": "python3"
  },
  "language_info": {
   "codemirror_mode": {
    "name": "ipython",
    "version": 3
   },
   "file_extension": ".py",
   "mimetype": "text/x-python",
   "name": "python",
   "nbconvert_exporter": "python",
   "pygments_lexer": "ipython3",
   "version": "3.11.1"
  },
  "orig_nbformat": 4,
  "vscode": {
   "interpreter": {
    "hash": "1a1af0ee75eeea9e2e1ee996c87e7a2b11a0bebd85af04bb136d915cefc0abce"
   }
  }
 },
 "nbformat": 4,
 "nbformat_minor": 2
}
