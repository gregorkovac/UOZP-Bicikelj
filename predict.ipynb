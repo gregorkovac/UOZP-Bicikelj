{
 "cells": [
  {
   "attachments": {},
   "cell_type": "markdown",
   "metadata": {},
   "source": [
    "Imports"
   ]
  },
  {
   "cell_type": "code",
   "execution_count": 7,
   "metadata": {},
   "outputs": [],
   "source": [
    "import pandas as pd\n",
    "import numpy as np\n",
    "from datetime import datetime\n",
    "import copy\n",
    "from sklearn import linear_model"
   ]
  },
  {
   "attachments": {},
   "cell_type": "markdown",
   "metadata": {},
   "source": [
    "Load data"
   ]
  },
  {
   "cell_type": "code",
   "execution_count": 2,
   "metadata": {},
   "outputs": [],
   "source": [
    "train = pd.read_csv('bicikelj_train.csv')\n",
    "test = pd.read_csv('bicikelj_test.csv')"
   ]
  },
  {
   "attachments": {},
   "cell_type": "markdown",
   "metadata": {},
   "source": [
    "Feature creation"
   ]
  },
  {
   "cell_type": "code",
   "execution_count": null,
   "metadata": {},
   "outputs": [],
   "source": [
    "train[\"timestamp\"] = [pd.to_datetime(ts).tz_localize(None) for ts in train[\"timestamp\"].values]\n",
    "test[\"timestamp\"] = [pd.to_datetime(ts).tz_localize(None) for ts in test[\"timestamp\"].values]\n",
    "\n",
    "times = train[\"timestamp\"].values"
   ]
  },
  {
   "cell_type": "code",
   "execution_count": 10,
   "metadata": {},
   "outputs": [],
   "source": [
    "def get_closest_time(t):\n",
    "    closest = np.argmin(np.abs(times - t))\n",
    "    return train.iloc[closest, 1:]"
   ]
  },
  {
   "cell_type": "code",
   "execution_count": 12,
   "metadata": {},
   "outputs": [],
   "source": [
    "for t in train['timestamp']:\n",
    "    train['hour'] = train['timestamp'].dt.hour\n",
    "    train['day'] = train['timestamp'].dt.day\n",
    "    train['month'] = train['timestamp'].dt.month\n",
    "    train['weekday'] = train['timestamp'].dt.weekday\n",
    "\n",
    "    train['bikes_before_60_time'] = get_closest_time(t - pd.Timedelta(minutes=60))\n",
    "    train['bikes_before_90_time'] = get_closest_time(t - pd.Timedelta(minutes=30))\n",
    "    train['bikes_before_120_time'] = get_closest_time(t - pd.Timedelta(minutes=120))\n",
    "\n",
    "for t in test['timestamp']:\n",
    "    test['hour'] = test['timestamp'].dt.hour\n",
    "    test['day'] = test['timestamp'].dt.day\n",
    "    test['month'] = test['timestamp'].dt.month\n",
    "    test['weekday'] = test['timestamp'].dt.weekday\n",
    "\n",
    "    test['bikes_before_60_time'] = get_closest_time(t - pd.Timedelta(minutes=60))\n",
    "    test['bikes_before_90_time'] = get_closest_time(t - pd.Timedelta(minutes=30))\n",
    "    test['bikes_before_120_time'] = get_closest_time(t - pd.Timedelta(minutes=120))"
   ]
  }
 ],
 "metadata": {
  "kernelspec": {
   "display_name": "Python 3",
   "language": "python",
   "name": "python3"
  },
  "language_info": {
   "codemirror_mode": {
    "name": "ipython",
    "version": 3
   },
   "file_extension": ".py",
   "mimetype": "text/x-python",
   "name": "python",
   "nbconvert_exporter": "python",
   "pygments_lexer": "ipython3",
   "version": "3.11.1"
  },
  "orig_nbformat": 4,
  "vscode": {
   "interpreter": {
    "hash": "1a1af0ee75eeea9e2e1ee996c87e7a2b11a0bebd85af04bb136d915cefc0abce"
   }
  }
 },
 "nbformat": 4,
 "nbformat_minor": 2
}
